{
 "cells": [
  {
   "cell_type": "markdown",
   "id": "7d95af9b",
   "metadata": {},
   "source": [
    "## Programming Assignment 3: Association Analysis, Deep learning, LLM for classification \n",
    "### Name: Fru Nkimbeng Christian \n",
    "### Banner ID: 916-463-968"
   ]
  },
  {
   "cell_type": "code",
   "execution_count": null,
   "id": "2177d9e5",
   "metadata": {},
   "outputs": [],
   "source": [
    "import pandas as pd\n",
    "\n",
    "# Load the uploaded CSV file\n",
    "file_path = '/Users/apple/Downloads/data_mining_3/Grocery_Items_21.csv'\n",
    "data = pd.read_csv(file_path)\n",
    "\n",
    "# Display the first few rows of the dataset to understand its structure\n",
    "data.head(), data.info()"
   ]
  },
  {
   "cell_type": "code",
   "execution_count": null,
   "id": "4659296c",
   "metadata": {},
   "outputs": [],
   "source": []
  }
 ],
 "metadata": {
  "kernelspec": {
   "display_name": "Python 3 (ipykernel)",
   "language": "python",
   "name": "python3"
  },
  "language_info": {
   "codemirror_mode": {
    "name": "ipython",
    "version": 3
   },
   "file_extension": ".py",
   "mimetype": "text/x-python",
   "name": "python",
   "nbconvert_exporter": "python",
   "pygments_lexer": "ipython3",
   "version": "3.9.13"
  }
 },
 "nbformat": 4,
 "nbformat_minor": 5
}
